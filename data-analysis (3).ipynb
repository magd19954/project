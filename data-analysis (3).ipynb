{
 "cells": [
  {
   "cell_type": "markdown",
   "metadata": {},
   "source": [
    "# Data Analysis\n",
    "The notebook focuses on connecting to GCP to access the data from the bucket.\n",
    "\n",
    "To make the connection, we use a [GCP service account ](https://cloud.google.com/iam/docs/service-account-overview)that holds permissions to access our bucket.\n",
    "### Steps\n",
    "1. Access Service accounts in the GCP account\n",
    "2. Open `deng-capstone-service-account`\n",
    "3. Create a new key file and download it locally for access in the next step. Rename file to a concise name.\n",
    "4. Set path of the key file as option in your spark configuration -    `spark._jsc.hadoopConfiguration().set(\"google.cloud.auth.service.account.json.keyfile\",\"/path/to/file/<renamed>.json\")`\n",
    "\n",
    "### Resources\n",
    "1. https://gobiviswa.medium.com/google-cloud-storage-handson-connecting-using-pyspark-5eefc0d8d932\n",
    "2. https://cloud.google.com/iam/docs/service-account-overview\n"
   ]
  },
  {
   "cell_type": "markdown",
   "metadata": {
    "vscode": {
     "languageId": "plaintext"
    }
   },
   "source": [
    "## Spark Application setup"
   ]
  },
  {
   "cell_type": "code",
   "execution_count": 32,
   "metadata": {},
   "outputs": [],
   "source": [
    "from datetime import datetime, timedelta\n",
    "\n",
    "from pyspark import SparkConf\n",
    "from pyspark.sql import SparkSession\n",
    "\n",
    "\n",
    "spark = SparkSession.builder \\\n",
    "    .appName('data-engineering-capstone') \\\n",
    "    .config(\"spark.jars\", \"https://storage.googleapis.com/hadoop-lib/gcs/gcs-connector-hadoop3-latest.jar\") \\\n",
    "    .config(\"spark.sql.repl.eagerEval.enabled\", True) \\\n",
    "    .getOrCreate()\n",
    "\n",
    "# Set GCS credentials. Ensure path points to you downloaded key file\n",
    "spark._jsc.hadoopConfiguration().set(\n",
    "    \"google.cloud.auth.service.account.json.keyfile\",\n",
    "    \"D:\\pro\\gcp-key.json\")\n",
    "\n"
   ]
  },
  {
   "cell_type": "markdown",
   "metadata": {},
   "source": [
    "## Read from GCS"
   ]
  },
  {
   "cell_type": "code",
   "execution_count": 33,
   "metadata": {},
   "outputs": [
    {
     "name": "stdout",
     "output_type": "stream",
     "text": [
      "+-----------+------+---+-------------+---------------+-----------+---------------+--------------+----------------+------------------------+------------------+\n",
      "|Customer ID|Gender|Age|         City|Membership Type|Total Spend|Items Purchased|Average Rating|Discount Applied|Days Since Last Purchase|Satisfaction Level|\n",
      "+-----------+------+---+-------------+---------------+-----------+---------------+--------------+----------------+------------------------+------------------+\n",
      "|        101|Female| 29|     New York|           Gold|     1120.2|             14|           4.6|            true|                      25|         Satisfied|\n",
      "|        102|  Male| 34|  Los Angeles|         Silver|      780.5|             11|           4.1|           false|                      18|           Neutral|\n",
      "|        103|Female| 43|      Chicago|         Bronze|     510.75|              9|           3.4|            true|                      42|       Unsatisfied|\n",
      "|        104|  Male| 30|San Francisco|           Gold|     1480.3|             19|           4.7|           false|                      12|         Satisfied|\n",
      "|        105|  Male| 27|        Miami|         Silver|      720.4|             13|           4.0|            true|                      55|       Unsatisfied|\n",
      "+-----------+------+---+-------------+---------------+-----------+---------------+--------------+----------------+------------------------+------------------+\n",
      "only showing top 5 rows\n",
      "\n"
     ]
    }
   ],
   "source": [
    "# file path to data in GCS bucket\n",
    "\n",
    "file_path = \"gs://ecommerce-customer/e-commerce-customer-behavior.csv\"\n",
    "\n",
    "df = spark.read.csv(file_path, header=True, inferSchema=True)\n",
    "\n",
    "df.show(5)"
   ]
  },
  {
   "cell_type": "code",
   "execution_count": 34,
   "metadata": {},
   "outputs": [
    {
     "name": "stdout",
     "output_type": "stream",
     "text": [
      "+-------+------------------+------+------------------+-------------+---------------+-----------------+-----------------+------------------+------------------------+------------------+\n",
      "|summary|       Customer ID|Gender|               Age|         City|Membership Type|      Total Spend|  Items Purchased|    Average Rating|Days Since Last Purchase|Satisfaction Level|\n",
      "+-------+------------------+------+------------------+-------------+---------------+-----------------+-----------------+------------------+------------------------+------------------+\n",
      "|  count|               350|   350|               350|          350|            350|              350|              350|               350|                     350|               348|\n",
      "|   mean|             275.5|  NULL|33.597142857142856|         NULL|           NULL|845.3817142857134|             12.6| 4.019142857142849|      26.588571428571427|              NULL|\n",
      "| stddev|101.18053172424031|  NULL| 4.870882183548376|         NULL|           NULL|362.0586953474656|4.155984396472746|0.5805385871469686|      13.440813085749618|              NULL|\n",
      "|    min|               101|Female|                26|      Chicago|         Bronze|            410.8|                7|               3.0|                       9|           Neutral|\n",
      "|    max|               450|  Male|                43|San Francisco|         Silver|           1520.1|               21|               4.9|                      63|       Unsatisfied|\n",
      "+-------+------------------+------+------------------+-------------+---------------+-----------------+-----------------+------------------+------------------------+------------------+\n",
      "\n"
     ]
    }
   ],
   "source": [
    "# Describe the dataset\n",
    "df.describe().show()\n"
   ]
  },
  {
   "cell_type": "code",
   "execution_count": 35,
   "metadata": {},
   "outputs": [],
   "source": [
    "# Drop all rows that contain any null values in any column\n",
    "df = df.dropna()\n"
   ]
  },
  {
   "cell_type": "code",
   "execution_count": 36,
   "metadata": {},
   "outputs": [],
   "source": [
    "df = df.dropDuplicates()\n"
   ]
  },
  {
   "cell_type": "code",
   "execution_count": 37,
   "metadata": {},
   "outputs": [
    {
     "name": "stdout",
     "output_type": "stream",
     "text": [
      "+-------+------------------+------+------------------+-------------+---------------+-----------------+------------------+------------------+------------------------+------------------+\n",
      "|summary|       Customer ID|Gender|               Age|         City|Membership Type|      Total Spend|   Items Purchased|    Average Rating|Days Since Last Purchase|Satisfaction Level|\n",
      "+-------+------------------+------+------------------+-------------+---------------+-----------------+------------------+------------------+------------------------+------------------+\n",
      "|  count|               348|   348|               348|          348|            348|              348|               348|               348|                     348|               348|\n",
      "|   mean|275.88793103448273|  NULL|33.577586206896555|         NULL|           NULL|847.7931034482757|12.632183908045977| 4.023563218390801|      26.614942528735632|              NULL|\n",
      "| stddev|101.30461140521022|  NULL|4.8780237566708236|         NULL|           NULL|361.6923754153085| 4.146078853153938|0.5791447077662925|      13.474749819778523|              NULL|\n",
      "|    min|               101|Female|                26|      Chicago|         Bronze|            410.8|                 7|               3.0|                       9|           Neutral|\n",
      "|    max|               450|  Male|                43|San Francisco|         Silver|           1520.1|                21|               4.9|                      63|       Unsatisfied|\n",
      "+-------+------------------+------+------------------+-------------+---------------+-----------------+------------------+------------------+------------------------+------------------+\n",
      "\n"
     ]
    }
   ],
   "source": [
    "df.describe().show()"
   ]
  },
  {
   "cell_type": "code",
   "execution_count": 38,
   "metadata": {},
   "outputs": [
    {
     "name": "stdout",
     "output_type": "stream",
     "text": [
      "+-----------+------+---+-------------+---------------+-----------+---------------+--------------+----------------+------------------------+------------------+----------------+\n",
      "|Customer ID|Gender|Age|         City|Membership Type|Total Spend|Items Purchased|Average Rating|Discount Applied|Days Since Last Purchase|Satisfaction Level|SpendingCategory|\n",
      "+-----------+------+---+-------------+---------------+-----------+---------------+--------------+----------------+------------------------+------------------+----------------+\n",
      "|        251|Female| 30|     New York|           Gold|     1180.8|             16|           4.7|            true|                      19|         Satisfied|            High|\n",
      "|        151|Female| 43|      Chicago|         Bronze|     505.75|             10|           3.3|            true|                      39|       Unsatisfied|          Medium|\n",
      "|        324|Female| 43|      Chicago|         Bronze|     505.75|             10|           3.3|            true|                      39|       Unsatisfied|          Medium|\n",
      "|        144|  Male| 35|  Los Angeles|         Silver|      820.9|             12|           4.3|           false|                      12|           Neutral|          Medium|\n",
      "|        385|  Male| 28|San Francisco|           Gold|     1490.1|             21|           4.9|           false|                      10|         Satisfied|            High|\n",
      "|        166|Female| 38|      Houston|         Bronze|      440.9|              8|           3.2|           false|                      24|           Neutral|             Low|\n",
      "|        227|Female| 32|     New York|           Gold|     1160.3|             14|           4.4|            true|                      22|         Satisfied|            High|\n",
      "|        235|Female| 41|      Chicago|         Bronze|     480.25|              9|           3.6|            true|                      38|       Unsatisfied|             Low|\n",
      "|        276|  Male| 35|  Los Angeles|         Silver|      820.9|             12|           4.3|           false|                      12|           Neutral|          Medium|\n",
      "|        229|Female| 43|      Chicago|         Bronze|     500.75|             10|           3.3|            true|                      40|       Unsatisfied|          Medium|\n",
      "|        417|Female| 37|      Houston|         Bronze|      450.8|              7|           3.4|           false|                      30|           Neutral|             Low|\n",
      "|        164|  Male| 29|San Francisco|           Gold|     1370.2|             18|           4.7|           false|                      10|         Satisfied|            High|\n",
      "|        383|  Male| 35|  Los Angeles|         Silver|      820.9|             12|           4.3|           false|                      15|           Neutral|          Medium|\n",
      "|        370|Female| 31|     New York|           Gold|     1140.6|             15|           4.5|            true|                      30|         Satisfied|            High|\n",
      "|        371|  Male| 35|  Los Angeles|         Silver|      800.9|             12|           4.1|           false|                      17|           Neutral|          Medium|\n",
      "|        401|  Male| 33|  Los Angeles|         Silver|      800.2|             11|           4.1|           false|                      18|           Neutral|          Medium|\n",
      "|        321|Female| 36|      Houston|         Bronze|      470.5|              8|           3.0|           false|                      18|           Neutral|             Low|\n",
      "|        269|Female| 32|     New York|           Gold|     1160.3|             14|           4.4|            true|                      22|         Satisfied|            High|\n",
      "|        275|Female| 31|     New York|           Gold|     1140.6|             15|           4.5|            true|                      27|         Satisfied|            High|\n",
      "|        427|  Male| 30|San Francisco|           Gold|     1450.5|             19|           4.6|           false|                      14|         Satisfied|            High|\n",
      "+-----------+------+---+-------------+---------------+-----------+---------------+--------------+----------------+------------------------+------------------+----------------+\n",
      "only showing top 20 rows\n",
      "\n"
     ]
    }
   ],
   "source": [
    "# Segmentation based on spending habits, demographics, loyalty, and satisfaction\n",
    "from pyspark.sql.functions import when\n",
    "\n",
    "segmentation_df = df.withColumn(\"SpendingCategory\", \n",
    "                                when(df[\"Total Spend\"] > 1000, \"High\")\n",
    "                                .when(df[\"Total Spend\"] > 500, \"Medium\")\n",
    "                                .otherwise(\"Low\"))\n",
    "\n",
    "segmentation_df.show()\n"
   ]
  },
  {
   "cell_type": "code",
   "execution_count": 39,
   "metadata": {},
   "outputs": [],
   "source": [
    "from pyspark.sql.functions import current_date, datediff\n",
    "\n",
    "# Identify inactive customers (no purchase in the last 30 days)\n",
    "inactive_customers = segmentation_df.filter((segmentation_df[\"Days Since Last Purchase\"]) > 30)\n",
    "\n",
    "# Identify recent customers (purchased within the last 7 days)\n",
    "recent_customers = segmentation_df.filter((segmentation_df[\"Days Since Last Purchase\"]) <= 30)\n",
    "\n",
    "\n"
   ]
  },
  {
   "cell_type": "code",
   "execution_count": 40,
   "metadata": {},
   "outputs": [
    {
     "name": "stdout",
     "output_type": "stream",
     "text": [
      "+-----------+------+---+--------+---------------+-----------+---------------+--------------+----------------+------------------------+------------------+----------------+\n",
      "|Customer ID|Gender|Age|    City|Membership Type|Total Spend|Items Purchased|Average Rating|Discount Applied|Days Since Last Purchase|Satisfaction Level|SpendingCategory|\n",
      "+-----------+------+---+--------+---------------+-----------+---------------+--------------+----------------+------------------------+------------------+----------------+\n",
      "|        151|Female| 43| Chicago|         Bronze|     505.75|             10|           3.3|            true|                      39|       Unsatisfied|          Medium|\n",
      "|        324|Female| 43| Chicago|         Bronze|     505.75|             10|           3.3|            true|                      39|       Unsatisfied|          Medium|\n",
      "|        235|Female| 41| Chicago|         Bronze|     480.25|              9|           3.6|            true|                      38|       Unsatisfied|             Low|\n",
      "|        229|Female| 43| Chicago|         Bronze|     500.75|             10|           3.3|            true|                      40|       Unsatisfied|          Medium|\n",
      "|        199|Female| 43| Chicago|         Bronze|     500.75|             10|           3.3|            true|                      40|       Unsatisfied|          Medium|\n",
      "|        382|Female| 31|New York|           Gold|     1160.6|             15|           4.5|            true|                      31|         Satisfied|            High|\n",
      "|        153|  Male| 27|   Miami|         Silver|      710.4|             13|           4.1|            true|                      54|       Unsatisfied|          Medium|\n",
      "|        414|Female| 43| Chicago|         Bronze|     505.75|             10|           3.3|            true|                      46|       Unsatisfied|          Medium|\n",
      "|        416|  Male| 27|   Miami|         Silver|      710.4|             13|           4.1|            true|                      61|       Unsatisfied|          Medium|\n",
      "|        121|Female| 43| Chicago|         Bronze|     505.75|             10|           3.3|            true|                      41|       Unsatisfied|          Medium|\n",
      "|        338|  Male| 26|   Miami|         Silver|      690.6|             12|           3.9|            true|                      47|       Unsatisfied|          Medium|\n",
      "|        189|  Male| 32|   Miami|         Silver|      670.3|             10|           3.8|            true|                      33|       Unsatisfied|          Medium|\n",
      "|        195|  Male| 26|   Miami|         Silver|      690.6|             12|           3.9|            true|                      47|       Unsatisfied|          Medium|\n",
      "|        201|  Male| 27|   Miami|         Silver|      700.4|             13|           4.0|            true|                      53|       Unsatisfied|          Medium|\n",
      "|        380|  Male| 27|   Miami|         Silver|      710.4|             13|           4.1|            true|                      58|       Unsatisfied|          Medium|\n",
      "|        398|  Male| 32|   Miami|         Silver|      660.3|             10|           3.8|            true|                      38|       Unsatisfied|          Medium|\n",
      "|        213|  Male| 27|   Miami|         Silver|      710.4|             13|           4.1|            true|                      54|       Unsatisfied|          Medium|\n",
      "|        360|Female| 41| Chicago|         Bronze|     495.25|              9|           3.6|            true|                      41|       Unsatisfied|             Low|\n",
      "|        139|Female| 43| Chicago|         Bronze|     500.75|             10|           3.3|            true|                      40|       Unsatisfied|          Medium|\n",
      "|        277|Female| 41| Chicago|         Bronze|     480.25|              9|           3.6|            true|                      38|       Unsatisfied|             Low|\n",
      "+-----------+------+---+--------+---------------+-----------+---------------+--------------+----------------+------------------------+------------------+----------------+\n",
      "only showing top 20 rows\n",
      "\n"
     ]
    }
   ],
   "source": [
    "inactive_customers.show()"
   ]
  },
  {
   "cell_type": "code",
   "execution_count": 41,
   "metadata": {},
   "outputs": [
    {
     "name": "stdout",
     "output_type": "stream",
     "text": [
      "+-----------+------+---+-------------+---------------+-----------+---------------+--------------+----------------+------------------------+------------------+----------------+\n",
      "|Customer ID|Gender|Age|         City|Membership Type|Total Spend|Items Purchased|Average Rating|Discount Applied|Days Since Last Purchase|Satisfaction Level|SpendingCategory|\n",
      "+-----------+------+---+-------------+---------------+-----------+---------------+--------------+----------------+------------------------+------------------+----------------+\n",
      "|        251|Female| 30|     New York|           Gold|     1180.8|             16|           4.7|            true|                      19|         Satisfied|            High|\n",
      "|        144|  Male| 35|  Los Angeles|         Silver|      820.9|             12|           4.3|           false|                      12|           Neutral|          Medium|\n",
      "|        385|  Male| 28|San Francisco|           Gold|     1490.1|             21|           4.9|           false|                      10|         Satisfied|            High|\n",
      "|        166|Female| 38|      Houston|         Bronze|      440.9|              8|           3.2|           false|                      24|           Neutral|             Low|\n",
      "|        227|Female| 32|     New York|           Gold|     1160.3|             14|           4.4|            true|                      22|         Satisfied|            High|\n",
      "|        276|  Male| 35|  Los Angeles|         Silver|      820.9|             12|           4.3|           false|                      12|           Neutral|          Medium|\n",
      "|        417|Female| 37|      Houston|         Bronze|      450.8|              7|           3.4|           false|                      30|           Neutral|             Low|\n",
      "|        164|  Male| 29|San Francisco|           Gold|     1370.2|             18|           4.7|           false|                      10|         Satisfied|            High|\n",
      "|        383|  Male| 35|  Los Angeles|         Silver|      820.9|             12|           4.3|           false|                      15|           Neutral|          Medium|\n",
      "|        370|Female| 31|     New York|           Gold|     1140.6|             15|           4.5|            true|                      30|         Satisfied|            High|\n",
      "|        371|  Male| 35|  Los Angeles|         Silver|      800.9|             12|           4.1|           false|                      17|           Neutral|          Medium|\n",
      "|        401|  Male| 33|  Los Angeles|         Silver|      800.2|             11|           4.1|           false|                      18|           Neutral|          Medium|\n",
      "|        321|Female| 36|      Houston|         Bronze|      470.5|              8|           3.0|           false|                      18|           Neutral|             Low|\n",
      "|        269|Female| 32|     New York|           Gold|     1160.3|             14|           4.4|            true|                      22|         Satisfied|            High|\n",
      "|        275|Female| 31|     New York|           Gold|     1140.6|             15|           4.5|            true|                      27|         Satisfied|            High|\n",
      "|        427|  Male| 30|San Francisco|           Gold|     1450.5|             19|           4.6|           false|                      14|         Satisfied|            High|\n",
      "|        395|  Male| 35|  Los Angeles|         Silver|      800.9|             12|           4.1|           false|                      17|           Neutral|          Medium|\n",
      "|        355|  Male| 30|San Francisco|           Gold|     1440.5|             19|           4.6|           false|                      12|         Satisfied|            High|\n",
      "|        369|Female| 37|      Houston|         Bronze|      450.8|              7|           3.4|           false|                      24|           Neutral|             Low|\n",
      "|        359|  Male| 35|  Los Angeles|         Silver|      810.9|             12|           4.3|           false|                      14|           Neutral|          Medium|\n",
      "+-----------+------+---+-------------+---------------+-----------+---------------+--------------+----------------+------------------------+------------------+----------------+\n",
      "only showing top 20 rows\n",
      "\n"
     ]
    }
   ],
   "source": [
    "recent_customers.show()"
   ]
  },
  {
   "cell_type": "code",
   "execution_count": 42,
   "metadata": {},
   "outputs": [],
   "source": [
    "from datetime import datetime\n",
    "\n",
    "# Get current datetime in the format MMDDYYYYHHMMSS\n",
    "datetime_now = datetime.now().strftime(\"%m%d%Y%H%M%S\")\n",
    "\n",
    "# Define the output path using formatted strings\n",
    "output_path_inactive_customers = f\"gs://project_data2/output/{datetime_now}_inactive_customers\"\n",
    "output_path_recent_customers = f\"gs://project_data2/output/{datetime_now}_recent_customers\"\n",
    "\n",
    "# Write inactive customers to GCS with overwrite mode\n",
    "inactive_customers.write.csv(output_path_inactive_customers, header=True, mode='overwrite')\n",
    "\n",
    "# Write recent customers to GCS with overwrite mode\n",
    "recent_customers.write.csv(output_path_recent_customers, header=True, mode='overwrite')\n"
   ]
  }
 ],
 "metadata": {
  "kernelspec": {
   "display_name": "Python 3 (ipykernel)",
   "language": "python",
   "name": "python3"
  },
  "language_info": {
   "codemirror_mode": {
    "name": "ipython",
    "version": 3
   },
   "file_extension": ".py",
   "mimetype": "text/x-python",
   "name": "python",
   "nbconvert_exporter": "python",
   "pygments_lexer": "ipython3",
   "version": "3.8.19"
  }
 },
 "nbformat": 4,
 "nbformat_minor": 4
}
